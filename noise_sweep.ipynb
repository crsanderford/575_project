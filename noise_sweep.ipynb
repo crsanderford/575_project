{
 "cells": [
  {
   "cell_type": "code",
   "execution_count": 1,
   "id": "c087cbff",
   "metadata": {},
   "outputs": [],
   "source": [
    "import torch\n",
    "import torch.nn.functional as F\n",
    "from torch import nn\n",
    "import torchvision.transforms as T\n",
    "from torchvision.datasets import MNIST\n",
    "from torch.utils.data import TensorDataset, DataLoader\n",
    "\n",
    "import matplotlib.pyplot as plt\n",
    "import numpy as np\n",
    "\n",
    "from torchdiffeq import odeint\n",
    "\n",
    "from neuralop.models import FNO2d, FNO\n",
    "\n",
    "from ndo_utils import *\n",
    "\n",
    "device = 'cuda' if torch.cuda.is_available() else 'cpu'"
   ]
  },
  {
   "cell_type": "code",
   "execution_count": 2,
   "id": "7d98360a",
   "metadata": {},
   "outputs": [
    {
     "data": {
      "text/plain": [
       "<All keys matched successfully>"
      ]
     },
     "execution_count": 2,
     "metadata": {},
     "output_type": "execute_result"
    }
   ],
   "source": [
    "cnn = SimpleConvNet().to(device=device)\n",
    "cnn.load_state_dict(torch.load('./data/inverse_heat_cnn.pth'))"
   ]
  },
  {
   "cell_type": "code",
   "execution_count": 3,
   "id": "e6d3780b",
   "metadata": {},
   "outputs": [
    {
     "data": {
      "text/plain": [
       "FNO2d(\n",
       "  (positional_embedding): GridEmbeddingND()\n",
       "  (fno_blocks): FNOBlocks(\n",
       "    (convs): ModuleList(\n",
       "      (0-3): 4 x SpectralConv(\n",
       "        (weight): DenseTensor(shape=torch.Size([32, 32, 16, 9]), rank=None)\n",
       "      )\n",
       "    )\n",
       "    (fno_skips): ModuleList(\n",
       "      (0-3): 4 x Flattened1dConv(\n",
       "        (conv): Conv1d(32, 32, kernel_size=(1,), stride=(1,), bias=False)\n",
       "      )\n",
       "    )\n",
       "    (channel_mlp): ModuleList(\n",
       "      (0-3): 4 x ChannelMLP(\n",
       "        (fcs): ModuleList(\n",
       "          (0): Conv1d(32, 16, kernel_size=(1,), stride=(1,))\n",
       "          (1): Conv1d(16, 32, kernel_size=(1,), stride=(1,))\n",
       "        )\n",
       "      )\n",
       "    )\n",
       "    (channel_mlp_skips): ModuleList(\n",
       "      (0-3): 4 x SoftGating()\n",
       "    )\n",
       "  )\n",
       "  (lifting): ChannelMLP(\n",
       "    (fcs): ModuleList(\n",
       "      (0): Conv1d(3, 64, kernel_size=(1,), stride=(1,))\n",
       "      (1): Conv1d(64, 32, kernel_size=(1,), stride=(1,))\n",
       "    )\n",
       "  )\n",
       "  (projection): ChannelMLP(\n",
       "    (fcs): ModuleList(\n",
       "      (0): Conv1d(32, 64, kernel_size=(1,), stride=(1,))\n",
       "      (1): Conv1d(64, 1, kernel_size=(1,), stride=(1,))\n",
       "    )\n",
       "  )\n",
       ")"
      ]
     },
     "execution_count": 3,
     "metadata": {},
     "output_type": "execute_result"
    }
   ],
   "source": [
    "fno = FNO2d(\n",
    "    in_channels=1,\n",
    "    out_channels=1,\n",
    "    n_modes_width=16,\n",
    "    n_modes_height=16,\n",
    "    hidden_channels=32,\n",
    ").to(device=device)\n",
    "\n",
    "fno.load_state_dict(torch.load('./data/inverse_heat_fno.pth', weights_only=False))\n",
    "fno.eval()"
   ]
  },
  {
   "cell_type": "code",
   "execution_count": 4,
   "id": "e6765b33",
   "metadata": {},
   "outputs": [
    {
     "data": {
      "text/plain": [
       "InverseHeatNDO(\n",
       "  (fno): FNO2d(\n",
       "    (positional_embedding): GridEmbeddingND()\n",
       "    (fno_blocks): FNOBlocks(\n",
       "      (convs): ModuleList(\n",
       "        (0-3): 4 x SpectralConv(\n",
       "          (weight): DenseTensor(shape=torch.Size([32, 32, 16, 9]), rank=None)\n",
       "        )\n",
       "      )\n",
       "      (fno_skips): ModuleList(\n",
       "        (0-3): 4 x Flattened1dConv(\n",
       "          (conv): Conv1d(32, 32, kernel_size=(1,), stride=(1,), bias=False)\n",
       "        )\n",
       "      )\n",
       "      (channel_mlp): ModuleList(\n",
       "        (0-3): 4 x ChannelMLP(\n",
       "          (fcs): ModuleList(\n",
       "            (0): Conv1d(32, 16, kernel_size=(1,), stride=(1,))\n",
       "            (1): Conv1d(16, 32, kernel_size=(1,), stride=(1,))\n",
       "          )\n",
       "        )\n",
       "      )\n",
       "      (channel_mlp_skips): ModuleList(\n",
       "        (0-3): 4 x SoftGating()\n",
       "      )\n",
       "    )\n",
       "    (lifting): ChannelMLP(\n",
       "      (fcs): ModuleList(\n",
       "        (0): Conv1d(3, 64, kernel_size=(1,), stride=(1,))\n",
       "        (1): Conv1d(64, 32, kernel_size=(1,), stride=(1,))\n",
       "      )\n",
       "    )\n",
       "    (projection): ChannelMLP(\n",
       "      (fcs): ModuleList(\n",
       "        (0): Conv1d(32, 64, kernel_size=(1,), stride=(1,))\n",
       "        (1): Conv1d(64, 1, kernel_size=(1,), stride=(1,))\n",
       "      )\n",
       "    )\n",
       "  )\n",
       ")"
      ]
     },
     "execution_count": 4,
     "metadata": {},
     "output_type": "execute_result"
    }
   ],
   "source": [
    "ndo = InverseHeatNDO(modes=(16,16), hidden_channels=32, atol=1e-5, rtol=1e-5).to(device=device)\n",
    "\n",
    "state_dict = torch.load('./data/inverse_heat_ndo.pth', weights_only=False)\n",
    "\n",
    "if '_metadata' in state_dict:\n",
    "    del state_dict['_metadata']\n",
    "\n",
    "ndo.load_state_dict(state_dict)\n",
    "ndo.eval()"
   ]
  },
  {
   "cell_type": "code",
   "execution_count": 5,
   "id": "64e4c87d",
   "metadata": {},
   "outputs": [],
   "source": [
    "data_test = torch.load('./data/heat_dataset_test.pt')\n",
    "u0_test = data_test['u0']\n",
    "ut_final_test = data_test['ut_final']\n",
    "\n",
    "\n",
    "u0_test = u0_test.unsqueeze(1).to(device)\n",
    "ut_final_test = ut_final_test.unsqueeze(1).to(device)"
   ]
  },
  {
   "cell_type": "code",
   "execution_count": 6,
   "id": "87e69a23",
   "metadata": {},
   "outputs": [
    {
     "name": "stdout",
     "output_type": "stream",
     "text": [
      "Processing noise level: 0.0\n"
     ]
    },
    {
     "name": "stderr",
     "output_type": "stream",
     "text": [
      "c:\\Users\\conno\\assignments\\UW\\amath_575\\575_project\\virt\\Lib\\site-packages\\torchdiffeq\\_impl\\misc.py:306: UserWarning: t is not on the same device as y0. Coercing to y0.device.\n",
      "  warnings.warn(\"t is not on the same device as y0. Coercing to y0.device.\")\n"
     ]
    },
    {
     "name": "stdout",
     "output_type": "stream",
     "text": [
      "Processing noise level: 0.0025\n",
      "Processing noise level: 0.005\n",
      "Processing noise level: 0.0075\n",
      "Processing noise level: 0.01\n",
      "Processing noise level: 0.0125\n",
      "Processing noise level: 0.015\n",
      "Processing noise level: 0.0175\n",
      "Processing noise level: 0.02\n",
      "Processing noise level: 0.0225\n",
      "Processing noise level: 0.025\n",
      "Processing noise level: 0.0275\n",
      "Processing noise level: 0.03\n",
      "Processing noise level: 0.0325\n",
      "Processing noise level: 0.035\n",
      "Processing noise level: 0.0375\n",
      "Processing noise level: 0.04\n",
      "Processing noise level: 0.0425\n",
      "Processing noise level: 0.045\n",
      "Processing noise level: 0.0475\n",
      "Processing noise level: 0.05\n",
      "Processing noise level: 0.0525\n",
      "Processing noise level: 0.055\n",
      "Processing noise level: 0.0575\n",
      "Processing noise level: 0.06\n",
      "Processing noise level: 0.0625\n",
      "Processing noise level: 0.065\n",
      "Processing noise level: 0.0675\n",
      "Processing noise level: 0.07\n",
      "Processing noise level: 0.0725\n",
      "Processing noise level: 0.075\n",
      "Processing noise level: 0.0775\n",
      "Processing noise level: 0.08\n",
      "Processing noise level: 0.0825\n",
      "Processing noise level: 0.085\n",
      "Processing noise level: 0.0875\n",
      "Processing noise level: 0.09\n",
      "Processing noise level: 0.0925\n",
      "Processing noise level: 0.095\n",
      "Processing noise level: 0.0975\n",
      "Processing noise level: 0.1\n",
      "Processing noise level: 0.1025\n",
      "Processing noise level: 0.105\n",
      "Processing noise level: 0.1075\n",
      "Processing noise level: 0.11\n",
      "Processing noise level: 0.1125\n",
      "Processing noise level: 0.115\n",
      "Processing noise level: 0.1175\n",
      "Processing noise level: 0.12\n",
      "Processing noise level: 0.1225\n",
      "Processing noise level: 0.125\n",
      "Processing noise level: 0.1275\n",
      "Processing noise level: 0.13\n",
      "Processing noise level: 0.1325\n",
      "Processing noise level: 0.135\n",
      "Processing noise level: 0.1375\n",
      "Processing noise level: 0.14\n",
      "Processing noise level: 0.1425\n",
      "Processing noise level: 0.145\n",
      "Processing noise level: 0.1475\n",
      "Processing noise level: 0.15\n",
      "Processing noise level: 0.1525\n",
      "Processing noise level: 0.155\n",
      "Processing noise level: 0.1575\n",
      "Processing noise level: 0.16\n",
      "Processing noise level: 0.1625\n",
      "Processing noise level: 0.165\n",
      "Processing noise level: 0.1675\n",
      "Processing noise level: 0.17\n",
      "Processing noise level: 0.1725\n",
      "Processing noise level: 0.175\n",
      "Processing noise level: 0.1775\n",
      "Processing noise level: 0.18\n",
      "Processing noise level: 0.1825\n",
      "Processing noise level: 0.185\n",
      "Processing noise level: 0.1875\n",
      "Processing noise level: 0.19\n",
      "Processing noise level: 0.1925\n",
      "Processing noise level: 0.195\n",
      "Processing noise level: 0.1975\n",
      "Processing noise level: 0.2\n",
      "Processing noise level: 0.2025\n",
      "Processing noise level: 0.205\n",
      "Processing noise level: 0.2075\n",
      "Processing noise level: 0.21\n",
      "Processing noise level: 0.2125\n",
      "Processing noise level: 0.215\n",
      "Processing noise level: 0.2175\n",
      "Processing noise level: 0.22\n",
      "Processing noise level: 0.2225\n",
      "Processing noise level: 0.225\n",
      "Processing noise level: 0.2275\n",
      "Processing noise level: 0.23\n",
      "Processing noise level: 0.2325\n",
      "Processing noise level: 0.235\n",
      "Processing noise level: 0.2375\n",
      "Processing noise level: 0.24\n",
      "Processing noise level: 0.2425\n",
      "Processing noise level: 0.245\n",
      "Processing noise level: 0.2475\n",
      "Processing noise level: 0.25\n"
     ]
    }
   ],
   "source": [
    "CNN_sols = []\n",
    "FNO_sols = []\n",
    "NDO_sols = []\n",
    "\n",
    "with torch.no_grad():\n",
    "\n",
    "    noise_0 = torch.randn_like(ut_final_test[0, ...].unsqueeze(0))\n",
    "\n",
    "    for ii in range(0, 101):\n",
    "\n",
    "        noise_level = ii / 400.0\n",
    "\n",
    "        print(f'Processing noise level: {noise_level}')\n",
    "\n",
    "        noise = noise_0 * noise_level * torch.norm(ut_final_test[0, ...].unsqueeze(0), p=2, dim=(1,2,3), keepdim=True) / torch.norm(noise_0, p=2, dim=(1,2,3), keepdim=True)\n",
    "\n",
    "        CNN_sol = ut_final_test[0, ...].unsqueeze(0) + noise\n",
    "        FNO_sol = ut_final_test[0, ...].unsqueeze(0) + noise\n",
    "\n",
    "        for ii in range(0, 201):\n",
    "            CNN_sol = cnn(CNN_sol)\n",
    "            FNO_sol = fno(FNO_sol)\n",
    "\n",
    "        CNN_sols.append(CNN_sol.detach().cpu().squeeze([1,2]).numpy())\n",
    "        FNO_sols.append(FNO_sol.detach().cpu().squeeze([1,2]).numpy())\n",
    "        NDO_sol = ndo(ut_final_test[0, ...].unsqueeze(0) + noise, s_span=torch.Tensor([0,1])).detach().cpu().squeeze([1,2])[-1].numpy()\n",
    "        NDO_sols.append(NDO_sol)\n",
    "\n",
    "        "
   ]
  },
  {
   "cell_type": "code",
   "execution_count": 7,
   "id": "7460a8c8",
   "metadata": {},
   "outputs": [],
   "source": [
    "true_sol = u0_test[0, ...].detach().cpu().squeeze([0,1]).numpy()\n",
    "\n",
    "errors_CNN = np.array([np.linalg.norm(true_sol - CNN_sol) for CNN_sol in CNN_sols])\n",
    "errors_FNO = np.array([np.linalg.norm(true_sol - FNO_sol) for FNO_sol in FNO_sols]) \n",
    "errors_NDO = np.array([np.linalg.norm(true_sol - NDO_sol) for NDO_sol in NDO_sols])\n",
    "\n",
    "RRE_CNN = errors_CNN / np.linalg.norm(true_sol)\n",
    "RRE_FNO = errors_FNO / np.linalg.norm(true_sol)\n",
    "RRE_NDO = errors_NDO / np.linalg.norm(true_sol)"
   ]
  },
  {
   "cell_type": "code",
   "execution_count": 8,
   "id": "a472ebea",
   "metadata": {},
   "outputs": [],
   "source": [
    "noise_span = np.linspace(0, 0.25, 101)\n",
    "n_frames = 101 \n",
    "import matplotlib.animation as animation\n",
    "\n",
    "plt.style.use('dark_background')"
   ]
  },
  {
   "cell_type": "code",
   "execution_count": 9,
   "id": "ec73479c",
   "metadata": {},
   "outputs": [
    {
     "name": "stderr",
     "output_type": "stream",
     "text": [
      "c:\\Users\\conno\\assignments\\UW\\amath_575\\575_project\\virt\\Lib\\site-packages\\matplotlib\\colors.py:778: RuntimeWarning: overflow encountered in multiply\n",
      "  xa *= self.N\n"
     ]
    },
    {
     "data": {
      "image/png": "[encoded data removed]",
      "text/plain": [
       "<Figure size 1400x930 with 6 Axes>"
      ]
     },
     "metadata": {
      "needs_background": "dark"
     },
     "output_type": "display_data"
    }
   ],
   "source": [
    "fig, axes = plt.subplots(2, 3, figsize=(14, 9.3))\n",
    "ax_img_cnn, ax_img_fno, ax_img_ndo = axes[0]\n",
    "ax_err_cnn, ax_err_fno, ax_err_ndo = axes[1]\n",
    "\n",
    "fig.set_facecolor('none')\n",
    "\n",
    "for ax in axes[0]:\n",
    "    ax.set_facecolor('none')\n",
    "for ax in axes[1]:\n",
    "    ax.set_facecolor('none')\n",
    "\n",
    "\n",
    "ax_img_cnn.set_title(\"CNN\")\n",
    "ax_img_fno.set_title(\"FNO\")\n",
    "ax_img_ndo.set_title(\"NDO\")\n",
    "\n",
    "\n",
    "im_cnn = ax_img_cnn.imshow(CNN_sols[0][0,...], cmap='inferno', vmin=0, vmax=1, animated=True)\n",
    "im_fno = ax_img_fno.imshow(FNO_sols[0][0,...], cmap='inferno', vmin=0, vmax=1, animated=True)\n",
    "im_ndo = ax_img_ndo.imshow(NDO_sols[0], cmap='inferno', vmin=0, vmax=1, animated=True)\n",
    "\n",
    "for ax in (ax_img_cnn, ax_img_fno, ax_img_ndo):\n",
    "    ax.axis('off')\n",
    "\n",
    "\n",
    "line_cnn, = ax_err_cnn.plot(noise_span, RRE_CNN, lw=1, color='#f25e16', animated=True)\n",
    "line_fno, = ax_err_fno.plot(noise_span, RRE_FNO, lw=1, color='#f25e16', animated=True)\n",
    "line_ndo, = ax_err_ndo.plot(noise_span, RRE_NDO, lw=1, color='#f25e16', animated=True)\n",
    "\n",
    "\n",
    "vline_cnn = ax_err_cnn.axvline(0, color='#e94f74', animated=True)\n",
    "vline_fno = ax_err_fno.axvline(0, color='#e94f74', animated=True)\n",
    "vline_ndo = ax_err_ndo.axvline(0, color='#e94f74', animated=True)\n",
    "\n",
    "\n",
    "ax_err_cnn.set_ylabel(\"relative reconstruction error\")\n",
    "for ax in (ax_err_cnn, ax_err_fno, ax_err_ndo):\n",
    "    ax.set_xlim(0, noise_span[-1])\n",
    "\n",
    "\n",
    "fig.supxlabel(\"noise level\")\n",
    "\n",
    "plt.tight_layout()\n",
    "\n",
    "def update(frame):\n",
    "    im_cnn.set_data(CNN_sols[frame][0,...])\n",
    "    im_fno.set_data(FNO_sols[frame][0,...])\n",
    "    im_ndo.set_data(NDO_sols[frame])\n",
    "\n",
    "    xpos = noise_span[frame]\n",
    "\n",
    "    vline_cnn.set_xdata([xpos, xpos])\n",
    "    vline_fno.set_xdata([xpos, xpos])\n",
    "    vline_ndo.set_xdata([xpos, xpos])\n",
    "    return (im_cnn, im_fno, im_ndo, vline_cnn, vline_fno, vline_ndo)\n",
    "\n",
    "ani = animation.FuncAnimation(fig, update, frames=n_frames, interval=60, blit=True)\n",
    "\n",
    "\n",
    "ani.save('./im/noise_sweep.png', writer=animation.PillowWriter(fps=15))"
   ]
  }
 ],
 "metadata": {
  "kernelspec": {
   "display_name": "virt",
   "language": "python",
   "name": "python3"
  },
  "language_info": {
   "codemirror_mode": {
    "name": "ipython",
    "version": 3
   },
   "file_extension": ".py",
   "mimetype": "text/x-python",
   "name": "python",
   "nbconvert_exporter": "python",
   "pygments_lexer": "ipython3",
   "version": "3.11.5"
  }
 },
 "nbformat": 4,
 "nbformat_minor": 5
}
